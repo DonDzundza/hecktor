{
 "cells": [
  {
   "cell_type": "code",
   "execution_count": 1,
   "metadata": {},
   "outputs": [],
   "source": [
    "from pathlib import Path\n",
    "\n",
    "import numpy as np\n",
    "import pandas as pd\n",
    "import SimpleITK as sitk\n",
    "\n",
    "from src.evaluation.scores import dice\n",
    "from src.resampling.utils import get_np_volume_from_sitk\n",
    "from src.resampling.resampling import resample_np_binary_volume"
   ]
  },
  {
   "cell_type": "code",
   "execution_count": 10,
   "metadata": {
    "tags": []
   },
   "outputs": [],
   "source": [
    "# If you use NiftyNet the output must be renamed to match the one requested for the submission\n",
    "!python src/niftynet/rename_output.py data/segmentation_output/ data/segmentation_output_renamed"
   ]
  },
  {
   "cell_type": "code",
   "execution_count": 18,
   "metadata": {},
   "outputs": [],
   "source": [
    "prediction_folder = 'data/segmentation_output_renamed'\n",
    "groundtruth_folder = 'data/hecktor_nii/'\n",
    "bb_filepath = 'data/bbox.csv'"
   ]
  },
  {
   "cell_type": "code",
   "execution_count": 21,
   "metadata": {
    "tags": []
   },
   "outputs": [
    {
     "output_type": "stream",
     "name": "stdout",
     "text": "21\n"
    }
   ],
   "source": [
    "# List of the files in the validation\n",
    "prediction_files = [\n",
    "            f\n",
    "            for f in Path(prediction_folder).rglob('*.nii.gz')\n",
    "        ]\n",
    "\n",
    "# The list is sorted, so it will match the list of ground truth files\n",
    "prediction_files.sort(key=lambda x: x.name.split('_')[0])   \n",
    "print(len(prediction_files))\n",
    "# List of the patient_id in the validation\n",
    "patient_name_predictions = [\n",
    "    f.name.split('.')[0] for f in prediction_files\n",
    "]\n"
   ]
  },
  {
   "cell_type": "code",
   "execution_count": 22,
   "metadata": {
    "tags": []
   },
   "outputs": [
    {
     "output_type": "stream",
     "name": "stdout",
     "text": "21\n"
    }
   ],
   "source": [
    "# List of the ground truth files\n",
    "groundtruth_files = [\n",
    "    f for f in Path(groundtruth_folder).rglob('*gtvt.nii.gz') if f.name.split('_')[0] in patient_name_predictions\n",
    "]\n",
    "# The list is sorted to match the validation list\n",
    "groundtruth_files.sort(key=lambda x: x.name.split('_')[0])\n",
    "\n",
    "print(len(groundtruth_files))"
   ]
  },
  {
   "cell_type": "code",
   "execution_count": 23,
   "metadata": {
    "scrolled": true
   },
   "outputs": [],
   "source": [
    "# The bounding boxes will be used to compute the Dice score within.\n",
    "bb_df = pd.read_csv(bb_filepath).set_index('PatientID')"
   ]
  },
  {
   "cell_type": "code",
   "execution_count": 24,
   "metadata": {
    "tags": []
   },
   "outputs": [
    {
     "output_type": "stream",
     "name": "stdout",
     "text": "0\nEvaluating patient CHGJ007\n1\nEvaluating patient CHGJ015\n2\nEvaluating patient CHGJ034\n3\nEvaluating patient CHGJ055\n4\nEvaluating patient CHMR013\n5\nEvaluating patient CHUM007\n6\nEvaluating patient CHUM021\n7\nEvaluating patient CHUM042\n8\nEvaluating patient CHUM043\n9\nEvaluating patient CHUM044\n10\nEvaluating patient CHUM049\n11\nEvaluating patient CHUM056\n12\nEvaluating patient CHUM065\n13\nEvaluating patient CHUS007\n14\nEvaluating patient CHUS021\n15\nEvaluating patient CHUS031\n16\nEvaluating patient CHUS039\n17\nEvaluating patient CHUS046\n18\nEvaluating patient CHUS057\n19\nEvaluating patient CHUS064\n20\nEvaluating patient CHUS097\n"
    }
   ],
   "source": [
    "# DataFrame to store the results\n",
    "results_df = pd.DataFrame(columns=['PatientID', 'Dice Score'])\n",
    "\n",
    "for i, f in enumerate(prediction_files):\n",
    "    print(i)\n",
    "    gt_file = groundtruth_files[i]\n",
    "    patient_name = f.name.split('.')[0]\n",
    "    print('Evaluating patient {}'.format(patient_name))\n",
    "    bb = (bb_df.loc[patient_name, 'x1'], bb_df.loc[patient_name, 'y1'], bb_df.loc[patient_name, 'z1'],\n",
    "          bb_df.loc[patient_name, 'x2'], bb_df.loc[patient_name, 'y2'], bb_df.loc[patient_name, 'z2'])\n",
    "    \n",
    "    sitk_pred = sitk.ReadImage(str(f.resolve()))\n",
    "    sitk_gt = sitk.ReadImage(str(gt_file.resolve()))\n",
    "    # Transform from SimpleITK to numpy, otherwise the bounding boxes axis are swapped\n",
    "    np_pred, px_spacing_pred, origin_pred = get_np_volume_from_sitk(sitk_pred)\n",
    "    np_gt, px_spacing_gt, origin_gt = get_np_volume_from_sitk(sitk_gt)\n",
    "    \n",
    "    # Resample back to the original resolution and crop in the bounding box\n",
    "    np_pred = resample_np_binary_volume(np_pred, origin_pred, px_spacing_pred, px_spacing_gt, bb)\n",
    "    np_gt = resample_np_binary_volume(np_gt, origin_gt, px_spacing_gt, px_spacing_gt, bb)\n",
    "\n",
    "    # Store the results\n",
    "    results_df = results_df.append({'PatientID': patient_name, 'Dice Score': dice(np_gt, np_pred), \n",
    "                                    }, ignore_index=True)"
   ]
  },
  {
   "cell_type": "code",
   "execution_count": 25,
   "metadata": {},
   "outputs": [
    {
     "output_type": "execute_result",
     "data": {
      "text/plain": "   PatientID  Dice Score\n0    CHGJ007    0.895127\n1    CHGJ015    0.684128\n2    CHGJ034    0.769137\n3    CHGJ055    0.562072\n4    CHMR013    0.315679\n5    CHUM007    0.819990\n6    CHUM021    0.899573\n7    CHUM042    0.907067\n8    CHUM043    0.000000\n9    CHUM044    0.918355\n10   CHUM049    0.541365\n11   CHUM056    0.007042\n12   CHUM065    0.640033\n13   CHUS007    0.854343\n14   CHUS021    0.000000\n15   CHUS031    0.922848\n16   CHUS039    0.679265\n17   CHUS046    0.765862\n18   CHUS057    0.828794\n19   CHUS064    0.733436\n20   CHUS097    0.881206",
      "text/html": "<div>\n<style scoped>\n    .dataframe tbody tr th:only-of-type {\n        vertical-align: middle;\n    }\n\n    .dataframe tbody tr th {\n        vertical-align: top;\n    }\n\n    .dataframe thead th {\n        text-align: right;\n    }\n</style>\n<table border=\"1\" class=\"dataframe\">\n  <thead>\n    <tr style=\"text-align: right;\">\n      <th></th>\n      <th>PatientID</th>\n      <th>Dice Score</th>\n    </tr>\n  </thead>\n  <tbody>\n    <tr>\n      <th>0</th>\n      <td>CHGJ007</td>\n      <td>0.895127</td>\n    </tr>\n    <tr>\n      <th>1</th>\n      <td>CHGJ015</td>\n      <td>0.684128</td>\n    </tr>\n    <tr>\n      <th>2</th>\n      <td>CHGJ034</td>\n      <td>0.769137</td>\n    </tr>\n    <tr>\n      <th>3</th>\n      <td>CHGJ055</td>\n      <td>0.562072</td>\n    </tr>\n    <tr>\n      <th>4</th>\n      <td>CHMR013</td>\n      <td>0.315679</td>\n    </tr>\n    <tr>\n      <th>5</th>\n      <td>CHUM007</td>\n      <td>0.819990</td>\n    </tr>\n    <tr>\n      <th>6</th>\n      <td>CHUM021</td>\n      <td>0.899573</td>\n    </tr>\n    <tr>\n      <th>7</th>\n      <td>CHUM042</td>\n      <td>0.907067</td>\n    </tr>\n    <tr>\n      <th>8</th>\n      <td>CHUM043</td>\n      <td>0.000000</td>\n    </tr>\n    <tr>\n      <th>9</th>\n      <td>CHUM044</td>\n      <td>0.918355</td>\n    </tr>\n    <tr>\n      <th>10</th>\n      <td>CHUM049</td>\n      <td>0.541365</td>\n    </tr>\n    <tr>\n      <th>11</th>\n      <td>CHUM056</td>\n      <td>0.007042</td>\n    </tr>\n    <tr>\n      <th>12</th>\n      <td>CHUM065</td>\n      <td>0.640033</td>\n    </tr>\n    <tr>\n      <th>13</th>\n      <td>CHUS007</td>\n      <td>0.854343</td>\n    </tr>\n    <tr>\n      <th>14</th>\n      <td>CHUS021</td>\n      <td>0.000000</td>\n    </tr>\n    <tr>\n      <th>15</th>\n      <td>CHUS031</td>\n      <td>0.922848</td>\n    </tr>\n    <tr>\n      <th>16</th>\n      <td>CHUS039</td>\n      <td>0.679265</td>\n    </tr>\n    <tr>\n      <th>17</th>\n      <td>CHUS046</td>\n      <td>0.765862</td>\n    </tr>\n    <tr>\n      <th>18</th>\n      <td>CHUS057</td>\n      <td>0.828794</td>\n    </tr>\n    <tr>\n      <th>19</th>\n      <td>CHUS064</td>\n      <td>0.733436</td>\n    </tr>\n    <tr>\n      <th>20</th>\n      <td>CHUS097</td>\n      <td>0.881206</td>\n    </tr>\n  </tbody>\n</table>\n</div>"
     },
     "metadata": {},
     "execution_count": 25
    }
   ],
   "source": [
    "results_df"
   ]
  },
  {
   "cell_type": "code",
   "execution_count": null,
   "metadata": {},
   "outputs": [],
   "source": []
  }
 ],
 "metadata": {
  "kernelspec": {
   "display_name": "Python 3.6.5 64-bit ('base': conda)",
   "language": "python",
   "name": "python_defaultSpec_1597279075607"
  },
  "language_info": {
   "codemirror_mode": {
    "name": "ipython",
    "version": 3
   },
   "file_extension": ".py",
   "mimetype": "text/x-python",
   "name": "python",
   "nbconvert_exporter": "python",
   "pygments_lexer": "ipython3",
   "version": "3.6.9-final"
  }
 },
 "nbformat": 4,
 "nbformat_minor": 2
}