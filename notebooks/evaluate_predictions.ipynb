{
 "cells": [
  {
   "cell_type": "code",
   "execution_count": null,
   "metadata": {},
   "outputs": [],
   "source": [
    "from pathlib import Path\n",
    "\n",
    "import numpy as np\n",
    "import pandas as pd\n",
    "import SimpleITK as sitk\n",
    "\n",
    "from src.evaluation.scores import dice\n",
    "from src.resampling.utils import get_np_volume_from_sitk\n",
    "from src.resampling.resampling import resample_np_binary_volume"
   ]
  },
  {
   "cell_type": "code",
   "execution_count": null,
   "metadata": {},
   "outputs": [],
   "source": [
    "# If you use NiftyNet the output must be renamed to match the one requested for the submission\n",
    "!python ../src/niftynet/rename_output.py ../data/segmentation_output/ ../data/segmentation_output_renamed"
   ]
  },
  {
   "cell_type": "code",
   "execution_count": null,
   "metadata": {},
   "outputs": [],
   "source": [
    "prediction_folder = '../data/segmentation_output_renamed'\n",
    "groundtruth_folder = '../data/hecktor_nii/'\n",
    "bb_filepath = '../data/bbox.csv'"
   ]
  },
  {
   "cell_type": "code",
   "execution_count": null,
   "metadata": {},
   "outputs": [],
   "source": [
    "# List of the files in the validation\n",
    "prediction_files = [\n",
    "            f\n",
    "            for f in Path(prediction_folder).rglob('*.nii.gz')\n",
    "        ]\n",
    "\n",
    "# The list is sorted, so it will match the list of ground truth files\n",
    "prediction_files.sort(key=lambda x: x.name.split('_')[0])   \n",
    " \n",
    "# List of the patient_id in the validation\n",
    "patient_name_predictions = [\n",
    "    f.name.split('.')[0] for f in prediction_files\n",
    "]\n"
   ]
  },
  {
   "cell_type": "code",
   "execution_count": null,
   "metadata": {},
   "outputs": [],
   "source": [
    "# List of the ground truth files\n",
    "groundtruth_files = [\n",
    "    f for f in Path(groundtruth_folder).rglob('*gtvt.nii.gz') if f.name.split('_')[0] in patient_name_predictions\n",
    "]\n",
    "# The list is sorted to match the validation list\n",
    "groundtruth_files.sort(key=lambda x: x.name.split('_')[0])"
   ]
  },
  {
   "cell_type": "code",
   "execution_count": null,
   "metadata": {
    "scrolled": true
   },
   "outputs": [],
   "source": [
    "# The bounding boxes will be used to compute the Dice score within.\n",
    "bb_df = pd.read_csv(bb_filepath).set_index('PatientID')"
   ]
  },
  {
   "cell_type": "code",
   "execution_count": null,
   "metadata": {},
   "outputs": [],
   "source": [
    "# DataFrame to store the results\n",
    "results_df = pd.DataFrame(columns=['PatientID', 'Dice Score 3D', 'Dice Score 2D'])\n",
    "\n",
    "for i, f in enumerate(prediction_files):\n",
    "    gt_file = groundtruth_files[i]\n",
    "    patient_name = f.name.split('.')[0]\n",
    "    print('Evaluating patient {}'.format(patient_name))\n",
    "    bb = (bb_df.loc[patient_name, 'x1'], bb_df.loc[patient_name, 'y1'], bb_df.loc[patient_name, 'z1'],\n",
    "          bb_df.loc[patient_name, 'x2'], bb_df.loc[patient_name, 'y2'], bb_df.loc[patient_name, 'z2'])\n",
    "    \n",
    "    sitk_pred = sitk.ReadImage(str(f.resolve()))\n",
    "    sitk_gt = sitk.ReadImage(str(gt_file.resolve()))\n",
    "    # Transform from SimpleITK to numpy, otherwise the bounding boxes axis are swapped\n",
    "    np_pred, px_spacing_pred, origin_pred = get_np_volume_from_sitk(sitk_pred)\n",
    "    np_gt, px_spacing_gt, origin_gt = get_np_volume_from_sitk(sitk_gt)\n",
    "    \n",
    "    # Resample back to the original resolution and crop in the bounding box\n",
    "    np_pred = resample_np_binary_volume(np_pred, origin_pred, px_spacing_pred, px_spacing_gt, bb)\n",
    "    np_gt = resample_np_binary_volume(np_gt, origin_gt, px_spacing_gt, px_spacing_gt, bb)\n",
    "\n",
    "    # Store the results\n",
    "    results_df = results_df.append({'PatientID': patient_name, 'Dice Score': dice(np_gt, np_pred), \n",
    "                                    }, ignore_index=True)\n",
    "\n",
    "    \n",
    "    \n"
   ]
  },
  {
   "cell_type": "code",
   "execution_count": null,
   "metadata": {},
   "outputs": [],
   "source": [
    "results_df"
   ]
  },
  {
   "cell_type": "code",
   "execution_count": null,
   "metadata": {},
   "outputs": [],
   "source": []
  }
 ],
 "metadata": {
  "kernelspec": {
   "display_name": "Python 3.6.9 64-bit ('env': virtualenv)",
   "language": "python",
   "name": "python36964bitenvvirtualenv26b1db0e42384554a3c995ce6ba87476"
  },
  "language_info": {
   "codemirror_mode": {
    "name": "ipython",
    "version": 3
   },
   "file_extension": ".py",
   "mimetype": "text/x-python",
   "name": "python",
   "nbconvert_exporter": "python",
   "pygments_lexer": "ipython3",
   "version": "3.6.9-final"
  }
 },
 "nbformat": 4,
 "nbformat_minor": 2
}